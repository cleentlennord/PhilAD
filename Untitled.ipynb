{
 "cells": [
  {
   "cell_type": "code",
   "execution_count": 8,
   "metadata": {},
   "outputs": [],
   "source": [
    "import pandas as pd\n",
    "\n",
    "LOOKUP = pd.read_excel('data_lookup.xlsx')"
   ]
  },
  {
   "cell_type": "code",
   "execution_count": 19,
   "metadata": {},
   "outputs": [
    {
     "data": {
      "text/plain": [
       "'[{\"barangay\":\"ADAMS \",\"city\":\"ADAMS\",\"province\":\"ILOCOS NORTE\",\"region\":\"REGION 1\"},{\"barangay\":\"ADAMS\",\"city\":\"ADAMS\",\"province\":\"ILOCOS NORTE\",\"region\":\"REGION 1\"},{\"barangay\":\"MADAMBA \",\"city\":\"DINGRAS\",\"province\":\"ILOCOS NORTE\",\"region\":\"REGION 1\"},{\"barangay\":\"MADAMBA\",\"city\":\"DINGRAS\",\"province\":\"ILOCOS NORTE\",\"region\":\"REGION 1\"},{\"barangay\":\"MADADAMIAN\",\"city\":\"ECHAGUE\",\"province\":\"ISABELA\",\"region\":\"REGION 2\"},{\"barangay\":\"CANADAM\",\"city\":\"MACONACON\",\"province\":\"ISABELA\",\"region\":\"REGION 2\"},{\"barangay\":\"PAGDADAMAYAN\",\"city\":\"SAN NARCISO\",\"province\":\"QUEZON\",\"region\":\"REGION 4-A\"},{\"barangay\":\"PAGDADAMAYAN \",\"city\":\"SAN NARCISO\",\"province\":\"QUEZON\",\"region\":\"REGION 4-A\"},{\"barangay\":\"MADAMBA\",\"city\":\"CATAINGAN\",\"province\":\"MASBATE\",\"region\":\"REGION 5\"},{\"barangay\":\"CANDADAM\",\"city\":\"BAYBAY CITY\",\"province\":\"LEYTE\",\"region\":\"REGION 8\"},{\"barangay\":\"MADAMBA\",\"city\":\"POONA PIAGAPO\",\"province\":\"LANAO DEL NORTE\",\"region\":\"REGION 10\"},{\"barangay\":\"MADAMBA\",\"city\":\"MADAMBA\",\"province\":\"LANAO DEL SUR\",\"region\":\"AUTONOMOUS REGION IN MUSLIM MINDANAO\"}]'"
      ]
     },
     "execution_count": 19,
     "metadata": {},
     "output_type": "execute_result"
    }
   ],
   "source": [
    "LOOKUP[LOOKUP['barangay'].str.contains(\"ADAM\")].to_json(orient='records')"
   ]
  },
  {
   "cell_type": "code",
   "execution_count": null,
   "metadata": {},
   "outputs": [],
   "source": []
  }
 ],
 "metadata": {
  "kernelspec": {
   "display_name": "Python3",
   "language": "python",
   "name": "python3"
  },
  "language_info": {
   "codemirror_mode": {
    "name": "ipython",
    "version": 3
   },
   "file_extension": ".py",
   "mimetype": "text/x-python",
   "name": "python",
   "nbconvert_exporter": "python",
   "pygments_lexer": "ipython3",
   "version": "3.5.5"
  }
 },
 "nbformat": 4,
 "nbformat_minor": 2
}

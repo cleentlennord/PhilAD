{
 "cells": [
  {
   "cell_type": "code",
   "execution_count": 1,
   "metadata": {},
   "outputs": [],
   "source": [
    "import pandas as pd\n",
    "import pycrfsuite"
   ]
  },
  {
   "cell_type": "code",
   "execution_count": 2,
   "metadata": {},
   "outputs": [
    {
     "data": {
      "text/plain": [
       "Index(['HOUSE/BUILDING NUMBER', 'STREET NAME', 'VILLAGE', 'SUBDIVISION',\n",
       "       'barangay', 'city', 'province', 'region', 'postal'],\n",
       "      dtype='object')"
      ]
     },
     "execution_count": 2,
     "metadata": {},
     "output_type": "execute_result"
    }
   ],
   "source": [
    "data = pd.read_excel('TRAINING-DATA.xlsx')\n",
    "data.columns"
   ]
  },
  {
   "cell_type": "code",
   "execution_count": 3,
   "metadata": {},
   "outputs": [],
   "source": [
    "data = data[['barangay', 'city', 'province', 'region', 'postal']]"
   ]
  },
  {
   "cell_type": "code",
   "execution_count": 4,
   "metadata": {},
   "outputs": [
    {
     "data": {
      "text/plain": [
       "1170"
      ]
     },
     "execution_count": 4,
     "metadata": {},
     "output_type": "execute_result"
    }
   ],
   "source": [
    "data.size"
   ]
  },
  {
   "cell_type": "code",
   "execution_count": 5,
   "metadata": {},
   "outputs": [
    {
     "name": "stdout",
     "output_type": "stream",
     "text": [
      "[('nan', 'barangay'), ('nan', 'city'), ('METRO MANILA', 'province'), ('NATIONAL CAPITAL REGION', 'region'), ('1000.0', 'postal')]\n",
      "[('nan', 'barangay'), ('nan', 'city'), ('METRO MANILA', 'province'), ('NATIONAL CAPITAL REGION', 'region'), ('1000.0', 'postal')]\n",
      "[('nan', 'barangay'), ('TONDO', 'city'), ('METRO MANILA', 'province'), ('NATIONAL CAPITAL REGION', 'region'), ('1013.0', 'postal')]\n",
      "[('nan', 'barangay'), ('TONDO', 'city'), ('METRO MANILA', 'province'), ('NATIONAL CAPITAL REGION', 'region'), ('1013.0', 'postal')]\n",
      "[('nan', 'barangay'), ('TONDO', 'city'), ('METRO MANILA', 'province'), ('NATIONAL CAPITAL REGION', 'region'), ('1013.0', 'postal')]\n",
      "[('nan', 'barangay'), ('TONDO', 'city'), ('METRO MANILA', 'province'), ('NATIONAL CAPITAL REGION', 'region'), ('1013.0', 'postal')]\n",
      "[('BRGY 209 ZONE 19', 'barangay'), ('TONDO', 'city'), ('METRO MANILA', 'province'), ('NATIONAL CAPITAL REGION', 'region'), ('1013.0', 'postal')]\n",
      "[('nan', 'barangay'), ('MALATE', 'city'), ('METRO MANILA', 'province'), ('NATIONAL CAPITAL REGION', 'region'), ('1004.0', 'postal')]\n",
      "[('nan', 'barangay'), ('MALATE', 'city'), ('METRO MANILA', 'province'), ('NATIONAL CAPITAL REGION', 'region'), ('1004.0', 'postal')]\n",
      "[('nan', 'barangay'), ('MALATE', 'city'), ('METRO MANILA', 'province'), ('NATIONAL CAPITAL REGION', 'region'), ('1004.0', 'postal')]\n",
      "[('nan', 'barangay'), ('MALATE', 'city'), ('METRO MANILA', 'province'), ('NATIONAL CAPITAL REGION', 'region'), ('1004.0', 'postal')]\n",
      "[('nan', 'barangay'), ('MALATE', 'city'), ('METRO MANILA', 'province'), ('NATIONAL CAPITAL REGION', 'region'), ('1004.0', 'postal')]\n",
      "[('nan', 'barangay'), ('MALATE', 'city'), ('METRO MANILA', 'province'), ('NATIONAL CAPITAL REGION', 'region'), ('1004.0', 'postal')]\n",
      "[('nan', 'barangay'), ('MALATE', 'city'), ('METRO MANILA', 'province'), ('NATIONAL CAPITAL REGION', 'region'), ('1004.0', 'postal')]\n",
      "[('nan', 'barangay'), ('MALATE', 'city'), ('METRO MANILA', 'province'), ('NATIONAL CAPITAL REGION', 'region'), ('1004.0', 'postal')]\n",
      "[('nan', 'barangay'), ('nan', 'city'), ('METRO MANILA', 'province'), ('NATIONAL CAPITAL REGION', 'region'), ('1000.0', 'postal')]\n",
      "[('nan', 'barangay'), ('nan', 'city'), ('METRO MANILA', 'province'), ('NATIONAL CAPITAL REGION', 'region'), ('1000.0', 'postal')]\n",
      "[('nan', 'barangay'), ('nan', 'city'), ('METRO MANILA', 'province'), ('NATIONAL CAPITAL REGION', 'region'), ('1000.0', 'postal')]\n",
      "[('nan', 'barangay'), ('nan', 'city'), ('METRO MANILA', 'province'), ('NATIONAL CAPITAL REGION', 'region'), ('1000.0', 'postal')]\n",
      "[('nan', 'barangay'), ('BINONDO', 'city'), ('METRO MANILA', 'province'), ('NATIONAL CAPITAL REGION', 'region'), ('1006.0', 'postal')]\n",
      "[('nan', 'barangay'), ('nan', 'city'), ('METRO MANILA', 'province'), ('NATIONAL CAPITAL REGION', 'region'), ('1000.0', 'postal')]\n",
      "[('nan', 'barangay'), ('TONDO', 'city'), ('METRO MANILA', 'province'), ('NATIONAL CAPITAL REGION', 'region'), ('1013.0', 'postal')]\n",
      "[('nan', 'barangay'), ('nan', 'city'), ('METRO MANILA', 'province'), ('NATIONAL CAPITAL REGION', 'region'), ('1000.0', 'postal')]\n",
      "[('nan', 'barangay'), ('nan', 'city'), ('METRO MANILA', 'province'), ('NATIONAL CAPITAL REGION', 'region'), ('1000.0', 'postal')]\n",
      "[('nan', 'barangay'), ('PANDACAN', 'city'), ('METRO MANILA', 'province'), ('NATIONAL CAPITAL REGION', 'region'), ('1011.0', 'postal')]\n",
      "[('nan', 'barangay'), ('PANDACAN', 'city'), ('METRO MANILA', 'province'), ('NATIONAL CAPITAL REGION', 'region'), ('1011.0', 'postal')]\n",
      "[('nan', 'barangay'), ('PANDACAN', 'city'), ('METRO MANILA', 'province'), ('NATIONAL CAPITAL REGION', 'region'), ('1011.0', 'postal')]\n",
      "[('nan', 'barangay'), ('PANDACAN', 'city'), ('METRO MANILA', 'province'), ('NATIONAL CAPITAL REGION', 'region'), ('1011.0', 'postal')]\n",
      "[('nan', 'barangay'), ('PANDACAN', 'city'), ('METRO MANILA', 'province'), ('NATIONAL CAPITAL REGION', 'region'), ('1011.0', 'postal')]\n",
      "[('KAHILOM 1', 'barangay'), ('PANDACAN', 'city'), ('METRO MANILA', 'province'), ('NATIONAL CAPITAL REGION', 'region'), ('1011.0', 'postal')]\n",
      "[('BRGY. BALUT', 'barangay'), ('TONDO', 'city'), ('METRO MANILA', 'province'), ('NATIONAL CAPITAL REGION', 'region'), ('1013.0', 'postal')]\n",
      "[('BRGY. BALUT', 'barangay'), ('TONDO', 'city'), ('METRO MANILA', 'province'), ('NATIONAL CAPITAL REGION', 'region'), ('1013.0', 'postal')]\n",
      "[('BRGY. 787', 'barangay'), ('STA. ANA', 'city'), ('METRO MANILA', 'province'), ('NATIONAL CAPITAL REGION', 'region'), ('1009.0', 'postal')]\n",
      "[('nan', 'barangay'), ('STA. ANA', 'city'), ('METRO MANILA', 'province'), ('NATIONAL CAPITAL REGION', 'region'), ('1009.0', 'postal')]\n",
      "[('BRGY. 785', 'barangay'), ('STA. ANA', 'city'), ('METRO MANILA', 'province'), ('NATIONAL CAPITAL REGION', 'region'), ('1009.0', 'postal')]\n",
      "[('nan', 'barangay'), ('SAN MIGUEL', 'city'), ('METRO MANILA', 'province'), ('NATIONAL CAPITAL REGION', 'region'), ('1005.0', 'postal')]\n",
      "[('MARIKINA HEIGHTS', 'barangay'), ('MARIKINA', 'city'), ('METRO MANILA', 'province'), ('NATIONAL CAPITAL REGION', 'region'), ('1810.0', 'postal')]\n",
      "[('BRGY. STA. ELENA', 'barangay'), ('MARIKINA', 'city'), ('METRO MANILA', 'province'), ('NATIONAL CAPITAL REGION', 'region'), ('1800.0', 'postal')]\n",
      "[('BRGY. PARANG', 'barangay'), ('MARIKINA', 'city'), ('METRO MANILA', 'province'), ('NATIONAL CAPITAL REGION', 'region'), ('1809.0', 'postal')]\n",
      "[('BRGY. TAÑONG', 'barangay'), ('MARIKINA', 'city'), ('METRO MANILA', 'province'), ('NATIONAL CAPITAL REGION', 'region'), ('1803.0', 'postal')]\n",
      "[('BRGY. NANGKA', 'barangay'), ('MARIKINA', 'city'), ('METRO MANILA', 'province'), ('NATIONAL CAPITAL REGION', 'region'), ('1808.0', 'postal')]\n",
      "[('BRGY. NANGKA', 'barangay'), ('MARIKINA', 'city'), ('METRO MANILA', 'province'), ('NATIONAL CAPITAL REGION', 'region'), ('1808.0', 'postal')]\n",
      "[('BRGY. TUMANA', 'barangay'), ('MARIKINA', 'city'), ('METRO MANILA', 'province'), ('NATIONAL CAPITAL REGION', 'region'), ('1800.0', 'postal')]\n",
      "[('BRGY. 167 LLANO', 'barangay'), ('CALOOCAN', 'city'), ('METRO MANILA', 'province'), ('NATIONAL CAPITAL REGION', 'region'), ('1400.0', 'postal')]\n",
      "[('BRGY. 105', 'barangay'), ('CALOOCAN', 'city'), ('METRO MANILA', 'province'), ('NATIONAL CAPITAL REGION', 'region'), ('nan', 'postal')]\n",
      "[('BRGY. ST. LONGOS', 'barangay'), ('MALABON', 'city'), ('METRO MANILA', 'province'), ('NATIONAL CAPITAL REGION', 'region'), ('1472.0', 'postal')]\n",
      "[('BRGY. LONGOS DAGAT DAGATAN', 'barangay'), ('MALABON', 'city'), ('METRO MANILA', 'province'), ('NATIONAL CAPITAL REGION', 'region'), ('1472.0', 'postal')]\n",
      "[('NAVOTAS WEST', 'barangay'), ('NAVOTAS', 'city'), ('METRO MANILA', 'province'), ('NATIONAL CAPITAL REGION', 'region'), ('1485.0', 'postal')]\n",
      "[('BRGY. TANGOS', 'barangay'), ('NAVOTAS', 'city'), ('METRO MANILA', 'province'), ('NATIONAL CAPITAL REGION', 'region'), ('1489.0', 'postal')]\n",
      "[('BRGY. TANGOS', 'barangay'), ('NAVOTAS', 'city'), ('METRO MANILA', 'province'), ('NATIONAL CAPITAL REGION', 'region'), ('1489.0', 'postal')]\n",
      "[('BRGY. TANGOS', 'barangay'), ('NAVOTAS', 'city'), ('METRO MANILA', 'province'), ('NATIONAL CAPITAL REGION', 'region'), ('nan', 'postal')]\n",
      "[('BRGY. LAWANG BATO', 'barangay'), ('VALENZUELA', 'city'), ('METRO MANILA', 'province'), ('NATIONAL CAPITAL REGION', 'region'), ('1447.0', 'postal')]\n",
      "[('BRGY. KARUHATAN', 'barangay'), ('VALENZUELA', 'city'), ('METRO MANILA', 'province'), ('NATIONAL CAPITAL REGION', 'region'), ('1441.0', 'postal')]\n",
      "[('BRGY. COMMONWEALTH', 'barangay'), ('QUEZON', 'city'), ('METRO MANILA', 'province'), ('NATIONAL CAPITAL REGION', 'region'), ('1121.0', 'postal')]\n",
      "[('BRGY. COMMONWEALTH', 'barangay'), ('QUEZON', 'city'), ('METRO MANILA', 'province'), ('NATIONAL CAPITAL REGION', 'region'), ('1121.0', 'postal')]\n",
      "[('BRGY. BAGONG SILANGAN', 'barangay'), ('QUEZON', 'city'), ('METRO MANILA', 'province'), ('NATIONAL CAPITAL REGION', 'region'), ('1119.0', 'postal')]\n",
      "[('nan', 'barangay'), ('QUEZON', 'city'), ('METRO MANILA', 'province'), ('NATIONAL CAPITAL REGION', 'region'), ('nan', 'postal')]\n",
      "[('BRGY. CULIAT', 'barangay'), ('QUEZON', 'city'), ('METRO MANILA', 'province'), ('NATIONAL CAPITAL REGION', 'region'), ('1128.0', 'postal')]\n",
      "[('BRGY. BATASAN HILLS', 'barangay'), ('QUEZON', 'city'), ('METRO MANILA', 'province'), ('NATIONAL CAPITAL REGION', 'region'), ('1126.0', 'postal')]\n",
      "[('BRGY. BATASAN HILLS', 'barangay'), ('QUEZON', 'city'), ('METRO MANILA', 'province'), ('NATIONAL CAPITAL REGION', 'region'), ('1126.0', 'postal')]\n",
      "[('BRGY. LIBIS', 'barangay'), ('QUEZON', 'city'), ('METRO MANILA', 'province'), ('NATIONAL CAPITAL REGION', 'region'), ('1110.0', 'postal')]\n",
      "[('BRGY. PASONG TAMO', 'barangay'), ('QUEZON', 'city'), ('METRO MANILA', 'province'), ('NATIONAL CAPITAL REGION', 'region'), ('1107.0', 'postal')]\n",
      "[('BRGY. PROJECT 4', 'barangay'), ('QUEZON', 'city'), ('METRO MANILA', 'province'), ('NATIONAL CAPITAL REGION', 'region'), ('1109.0', 'postal')]\n",
      "[('nan', 'barangay'), ('QUEZON', 'city'), ('METRO MANILA', 'province'), ('NATIONAL CAPITAL REGION', 'region'), ('nan', 'postal')]\n",
      "[('nan', 'barangay'), ('QUEZON', 'city'), ('METRO MANILA', 'province'), ('NATIONAL CAPITAL REGION', 'region'), ('nan', 'postal')]\n",
      "[('BRGY. BALINTAWAK', 'barangay'), ('QUEZON', 'city'), ('METRO MANILA', 'province'), ('NATIONAL CAPITAL REGION', 'region'), ('1106.0', 'postal')]\n",
      "[('BRGY BAGONG SILANGAN', 'barangay'), ('QUEZON', 'city'), ('METRO MANILA', 'province'), ('NATIONAL CAPITAL REGION', 'region'), ('1119.0', 'postal')]\n",
      "[('nan', 'barangay'), ('QUEZON', 'city'), ('METRO MANILA', 'province'), ('NATIONAL CAPITAL REGION', 'region'), ('nan', 'postal')]\n",
      "[('BRGY. NS AMORANTO', 'barangay'), ('QUEZON', 'city'), ('METRO MANILA', 'province'), ('NATIONAL CAPITAL REGION', 'region'), ('nan', 'postal')]\n",
      "[('BRGY. MAHARLIKA', 'barangay'), ('QUEZON', 'city'), ('METRO MANILA', 'province'), ('NATIONAL CAPITAL REGION', 'region'), ('1114.0', 'postal')]\n",
      "[('BRGY. TALAYAN VILLAGE', 'barangay'), ('QUEZON', 'city'), ('METRO MANILA', 'province'), ('NATIONAL CAPITAL REGION', 'region'), ('1104.0', 'postal')]\n",
      "[('BRGY BUNGAD', 'barangay'), ('QUEZON', 'city'), ('METRO MANILA', 'province'), ('NATIONAL CAPITAL REGION', 'region'), ('1105.0', 'postal')]\n",
      "[('BRGY. MASAMBONG', 'barangay'), ('QUEZON', 'city'), ('METRO MANILA', 'province'), ('NATIONAL CAPITAL REGION', 'region'), ('1105.0', 'postal')]\n",
      "[('BRGY. MASAMBONG', 'barangay'), ('QUEZON', 'city'), ('METRO MANILA', 'province'), ('NATIONAL CAPITAL REGION', 'region'), ('1105.0', 'postal')]\n",
      "[('BRGY. BAGO BANTAY', 'barangay'), ('QUEZON', 'city'), ('METRO MANILA', 'province'), ('NATIONAL CAPITAL REGION', 'region'), ('nan', 'postal')]\n",
      "[('BRGY. SAN ANTONIO', 'barangay'), ('QUEZON', 'city'), ('METRO MANILA', 'province'), ('NATIONAL CAPITAL REGION', 'region'), ('1105.0', 'postal')]\n",
      "[('SFDM', 'barangay'), ('QUEZON', 'city'), ('METRO MANILA', 'province'), ('NATIONAL CAPITAL REGION', 'region'), ('nan', 'postal')]\n",
      "[('BRGY. MASUMBONG', 'barangay'), ('QUEZON', 'city'), ('METRO MANILA', 'province'), ('NATIONAL CAPITAL REGION', 'region'), ('1105.0', 'postal')]\n",
      "[('nan', 'barangay'), ('MARIKINA', 'city'), ('METRO MANILA', 'province'), ('NATIONAL CAPITAL REGION', 'region'), ('1802.0', 'postal')]\n",
      "[('BRGY. BAGBAG NOVALICHES', 'barangay'), ('QUEZON CITY', 'city'), ('METRO MANILA', 'province'), ('NATIONAL CAPITAL REGION', 'region'), ('1116.0', 'postal')]\n",
      "[('BRGY. GULOD', 'barangay'), ('QUEZON CITY', 'city'), ('METRO MANILA', 'province'), ('NATIONAL CAPITAL REGION', 'region'), ('1117.0', 'postal')]\n",
      "[('nan', 'barangay'), ('QUEZON CITY', 'city'), ('METRO MANILA', 'province'), ('NATIONAL CAPITAL REGION', 'region'), ('1123.0', 'postal')]\n",
      "[('NOVALICHES', 'barangay'), ('QUEZON CITY', 'city'), ('METRO MANILA', 'province'), ('NATIONAL CAPITAL REGION', 'region'), ('1125.0', 'postal')]\n",
      "[('NOVALICHES', 'barangay'), ('QUEZON CITY', 'city'), ('METRO MANILA', 'province'), ('NATIONAL CAPITAL REGION', 'region'), ('1115.0', 'postal')]\n",
      "[('BRGY SAN BARTOLOME NOVALICHES', 'barangay'), ('QUEZON CITY', 'city'), ('METRO MANILA', 'province'), ('NATIONAL CAPITAL REGION', 'region'), ('1116.0', 'postal')]\n",
      "[('BRGY. STA MONICA NOVALICHES', 'barangay'), ('QUEZON CITY', 'city'), ('METRO MANILA', 'province'), ('NATIONAL CAPITAL REGION', 'region'), ('1117.0', 'postal')]\n",
      "[('GREENFIELDS I NOVALICHES', 'barangay'), ('QUEZON CITY', 'city'), ('METRO MANILA', 'province'), ('NATIONAL CAPITAL REGION', 'region'), ('1123.0', 'postal')]\n",
      "[('PROJECT 4', 'barangay'), ('QUEZON CITY', 'city'), ('METRO MANILA', 'province'), ('NATIONAL CAPITAL REGION', 'region'), ('1109.0', 'postal')]\n",
      "[('BRGY. ESCOPA 1 PROJECT 4', 'barangay'), ('QUEZON CITY', 'city'), ('METRO MANILA', 'province'), ('NATIONAL CAPITAL REGION', 'region'), ('1109.0', 'postal')]\n",
      "[('EASTWOOD', 'barangay'), ('QUEZON CITY', 'city'), ('METRO MANILA', 'province'), ('NATIONAL CAPITAL REGION', 'region'), ('nan', 'postal')]\n",
      "[('PROJECT 4', 'barangay'), ('QUEZON CITY', 'city'), ('METRO MANILA', 'province'), ('NATIONAL CAPITAL REGION', 'region'), ('1109.0', 'postal')]\n",
      "[('BRGY. ESCOPA 4', 'barangay'), ('QUEZON CITY', 'city'), ('METRO MANILA', 'province'), ('NATIONAL CAPITAL REGION', 'region'), ('1109.0', 'postal')]\n",
      "[('BRGY. BAGUMBUHAY PROJECT 4', 'barangay'), ('QUEZON CITY', 'city'), ('METRO MANILA', 'province'), ('NATIONAL CAPITAL REGION', 'region'), ('1110.0', 'postal')]\n",
      "[('GSIS VILLAGE', 'barangay'), ('QUEZON CITY', 'city'), ('METRO MANILA', 'province'), ('NATIONAL CAPITAL REGION', 'region'), ('nan', 'postal')]\n",
      "[('BRGY. TALIPAPA', 'barangay'), ('QUEZON CITY', 'city'), ('METRO MANILA', 'province'), ('NATIONAL CAPITAL REGION', 'region'), ('1116.0', 'postal')]\n",
      "[('BRGY. TANDANG SORA', 'barangay'), ('QUEZON CITY', 'city'), ('METRO MANILA', 'province'), ('NATIONAL CAPITAL REGION', 'region'), ('1116.0', 'postal')]\n",
      "[('BRGY. BAHAY TORO PROJECT 8', 'barangay'), ('QUEZON CITY', 'city'), ('METRO MANILA', 'province'), ('NATIONAL CAPITAL REGION', 'region'), ('1106.0', 'postal')]\n",
      "[('BRGY. TANDANG SORA', 'barangay'), ('QUEZON CITY', 'city'), ('METRO MANILA', 'province'), ('NATIONAL CAPITAL REGION', 'region'), ('1116.0', 'postal')]\n",
      "[('BRGY. BAESA', 'barangay'), ('QUEZON CITY', 'city'), ('METRO MANILA', 'province'), ('NATIONAL CAPITAL REGION', 'region'), ('1106.0', 'postal')]\n",
      "[('BRGY. SANGANDAAN BAHAY TORO', 'barangay'), ('QUEZON CITY', 'city'), ('METRO MANILA', 'province'), ('NATIONAL CAPITAL REGION', 'region'), ('1116.0', 'postal')]\n",
      "[('BRGY. TANDANG SORA', 'barangay'), ('QUEZON CITY', 'city'), ('METRO MANILA', 'province'), ('NATIONAL CAPITAL REGION', 'region'), ('1116.0', 'postal')]\n",
      "[('BRGY. TANDANG SORA', 'barangay'), ('QUEZON CITY', 'city'), ('METRO MANILA', 'province'), ('NATIONAL CAPITAL REGION', 'region'), ('1116.0', 'postal')]\n",
      "[('BRGY. CULIAT', 'barangay'), ('QUEZON CITY', 'city'), ('METRO MANILA', 'province'), ('NATIONAL CAPITAL REGION', 'region'), ('1128.0', 'postal')]\n",
      "[('BRGY. CULIAT', 'barangay'), ('QUEZON CITY', 'city'), ('METRO MANILA', 'province'), ('NATIONAL CAPITAL REGION', 'region'), ('1128.0', 'postal')]\n",
      "[('BRGY. TANDANG SORA', 'barangay'), ('QUEZON CITY', 'city'), ('METRO MANILA', 'province'), ('NATIONAL CAPITAL REGION', 'region'), ('1116.0', 'postal')]\n",
      "[('BRGY. LAMBAKIN', 'barangay'), ('MEYCAUAYAN', 'city'), ('METRO MANILA', 'province'), ('REGION 3', 'region'), ('3020.0', 'postal')]\n",
      "[('BRGY. PAMPLONA UNO', 'barangay'), ('LAS PIÑAS', 'city'), ('METRO MANILA', 'province'), ('NATIONAL CAPITAL REGION', 'region'), ('1740.0', 'postal')]\n",
      "[('PILLAR VILLAGE', 'barangay'), ('LAS PIÑAS', 'city'), ('METRO MANILA', 'province'), ('NATIONAL CAPITAL REGION', 'region'), ('nan', 'postal')]\n",
      "[('BRGY. USUSAN', 'barangay'), ('TAGUIG', 'city'), ('METRO MANILA', 'province'), ('NATIONAL CAPITAL REGION', 'region'), ('nan', 'postal')]\n",
      "[('BRGY. CUPANG', 'barangay'), ('MUNTINLUPA', 'city'), ('METRO MANILA', 'province'), ('NATIONAL CAPITAL REGION', 'region'), ('1771.0', 'postal')]\n",
      "[('BRGY. TALON 1', 'barangay'), ('LAS PIÑAS', 'city'), ('METRO MANILA', 'province'), ('NATIONAL CAPITAL REGION', 'region'), ('1747.0', 'postal')]\n",
      "[('BRGY. PAMPLONA 3', 'barangay'), ('LAS PIÑAS', 'city'), ('METRO MANILA', 'province'), ('NATIONAL CAPITAL REGION', 'region'), ('1740.0', 'postal')]\n",
      "[('PALIPARAN', 'barangay'), ('DASMARIÑAS', 'city'), ('METRO MANILA', 'province'), ('NATIONAL CAPITAL REGION', 'region'), ('4114.0', 'postal')]\n",
      "[('BRGY. SAN ANTONIO', 'barangay'), ('MAKATI', 'city'), ('METRO MANILA', 'province'), ('NATIONAL CAPITAL REGION', 'region'), ('1203.0', 'postal')]\n",
      "[('BRGY. GUADALUPE NUEVO', 'barangay'), ('MAKATI', 'city'), ('METRO MANILA', 'province'), ('NATIONAL CAPITAL REGION', 'region'), ('1212.0', 'postal')]\n",
      "[('BRGY. DONGALO', 'barangay'), ('PARAÑAQUE', 'city'), ('METRO MANILA', 'province'), ('NATIONAL CAPITAL REGION', 'region'), ('nan', 'postal')]\n",
      "[(\"BRFY. MARTIRE DEL'96\", 'barangay'), ('PATEROS', 'city'), ('METRO MANILA', 'province'), ('NATIONAL CAPITAL REGION', 'region'), ('nan', 'postal')]\n",
      "[('EAST REMBO', 'barangay'), ('MAKATI', 'city'), ('METRO MANILA', 'province'), ('NATIONAL CAPITAL REGION', 'region'), ('1216.0', 'postal')]\n",
      "[('BRGY. SAN PEDRO', 'barangay'), ('PATEROS', 'city'), ('METRO MANILA', 'province'), ('NATIONAL CAPITAL REGION', 'region'), ('1623.0', 'postal')]\n",
      "[('BRGY. AGUHOS', 'barangay'), ('PATEROS', 'city'), ('METRO MANILA', 'province'), ('NATIONAL CAPITAL REGION', 'region'), ('1620.0', 'postal')]\n",
      "[('STO. ROSARIO SILANGAN', 'barangay'), ('PATEROS', 'city'), ('METRO MANILA', 'province'), ('NATIONAL CAPITAL REGION', 'region'), ('1620.0', 'postal')]\n",
      "[('BRGY. POBLACION', 'barangay'), ('PATEROS', 'city'), ('METRO MANILA', 'province'), ('NATIONAL CAPITAL REGION', 'region'), ('1620.0', 'postal')]\n",
      "[('nan', 'barangay'), ('TAGUIG', 'city'), ('METRO MANILA', 'province'), ('NATIONAL CAPITAL REGION', 'region'), ('nan', 'postal')]\n",
      "[('ACACIA ESTATE', 'barangay'), ('TAGUIG', 'city'), ('METRO MANILA', 'province'), ('NATIONAL CAPITAL REGION', 'region'), ('nan', 'postal')]\n",
      "[('FORT BONIFACIO', 'barangay'), ('TAGUIG', 'city'), ('METRO MANILA', 'province'), ('NATIONAL CAPITAL REGION', 'region'), ('1634.0', 'postal')]\n",
      "[('LOWER BICUTAN', 'barangay'), ('TAGUIG', 'city'), ('METRO MANILA', 'province'), ('NATIONAL CAPITAL REGION', 'region'), ('1632.0', 'postal')]\n",
      "[('WESTERN BICUTAN', 'barangay'), ('TAGUIG', 'city'), ('METRO MANILA', 'province'), ('NATIONAL CAPITAL REGION', 'region'), ('1630.0', 'postal')]\n",
      "[('GAGALANGIN', 'barangay'), ('TONDO', 'city'), ('METRO MANILA', 'province'), ('NATIONAL CAPITAL REGION', 'region'), ('nan', 'postal')]\n",
      "[('nan', 'barangay'), ('TONDO', 'city'), ('METRO MANILA', 'province'), ('NATIONAL CAPITAL REGION', 'region'), ('nan', 'postal')]\n",
      "[('GAGALANGIN', 'barangay'), ('TONDO', 'city'), ('METRO MANILA', 'province'), ('NATIONAL CAPITAL REGION', 'region'), ('1012.0', 'postal')]\n",
      "[('BALUT', 'barangay'), ('TONDO', 'city'), ('METRO MANILA', 'province'), ('NATIONAL CAPITAL REGION', 'region'), ('1000.0', 'postal')]\n",
      "[('nan', 'barangay'), ('TONDO', 'city'), ('METRO MANILA', 'province'), ('NATIONAL CAPITAL REGION', 'region'), ('nan', 'postal')]\n",
      "[('nan', 'barangay'), ('TONDO', 'city'), ('METRO MANILA', 'province'), ('NATIONAL CAPITAL REGION', 'region'), ('1000.0', 'postal')]\n",
      "[('nan', 'barangay'), ('TONDO', 'city'), ('METRO MANILA', 'province'), ('NATIONAL CAPITAL REGION', 'region'), ('nan', 'postal')]\n",
      "[('SANTA FE', 'barangay'), ('TONDO', 'city'), ('METRO MANILA', 'province'), ('NATIONAL CAPITAL REGION', 'region'), ('nan', 'postal')]\n",
      "[('nan', 'barangay'), ('TONDO', 'city'), ('METRO MANILA', 'province'), ('NATIONAL CAPITAL REGION', 'region'), ('1013.0', 'postal')]\n",
      "[('nan', 'barangay'), ('TONDO', 'city'), ('METRO MANILA', 'province'), ('NATIONAL CAPITAL REGION', 'region'), ('nan', 'postal')]\n",
      "[('nan', 'barangay'), ('TONDO', 'city'), ('METRO MANILA', 'province'), ('NATIONAL CAPITAL REGION', 'region'), ('100.0', 'postal')]\n",
      "[('VITAS', 'barangay'), ('TONDO', 'city'), ('METRO MANILA', 'province'), ('NATIONAL CAPITAL REGION', 'region'), ('1013.0', 'postal')]\n",
      "[('nan', 'barangay'), ('TONDO', 'city'), ('METRO MANILA', 'province'), ('NATIONAL CAPITAL REGION', 'region'), ('nan', 'postal')]\n",
      "[('nan', 'barangay'), ('TONDO', 'city'), ('METRO MANILA', 'province'), ('NATIONAL CAPITAL REGION', 'region'), ('1012.0', 'postal')]\n",
      "[('nan', 'barangay'), ('TONDO', 'city'), ('METRO MANILA', 'province'), ('NATIONAL CAPITAL REGION', 'region'), ('1013.0', 'postal')]\n",
      "[('nan', 'barangay'), ('TONDO', 'city'), ('METRO MANILA', 'province'), ('NATIONAL CAPITAL REGION', 'region'), ('1004.0', 'postal')]\n",
      "[('nan', 'barangay'), ('TONDO', 'city'), ('METRO MANILA', 'province'), ('NATIONAL CAPITAL REGION', 'region'), ('1008.0', 'postal')]\n",
      "[('nan', 'barangay'), ('TONDO', 'city'), ('METRO MANILA', 'province'), ('NATIONAL CAPITAL REGION', 'region'), ('1013.0', 'postal')]\n",
      "[('nan', 'barangay'), ('TONDO', 'city'), ('METRO MANILA', 'province'), ('NATIONAL CAPITAL REGION', 'region'), ('1000.0', 'postal')]\n",
      "[('nan', 'barangay'), ('TONDO', 'city'), ('METRO MANILA', 'province'), ('NATIONAL CAPITAL REGION', 'region'), ('1013.0', 'postal')]\n",
      "[('GAGALANGIN', 'barangay'), ('TONDO', 'city'), ('METRO MANILA', 'province'), ('NATIONAL CAPITAL REGION', 'region'), ('1000.0', 'postal')]\n",
      "[('nan', 'barangay'), ('TONDO', 'city'), ('METRO MANILA', 'province'), ('NATIONAL CAPITAL REGION', 'region'), ('1013.0', 'postal')]\n",
      "[('nan', 'barangay'), ('TONDO', 'city'), ('METRO MANILA', 'province'), ('NATIONAL CAPITAL REGION', 'region'), ('1000.0', 'postal')]\n",
      "[('nan', 'barangay'), ('TONDO', 'city'), ('METRO MANILA', 'province'), ('NATIONAL CAPITAL REGION', 'region'), ('nan', 'postal')]\n",
      "[('BALUT', 'barangay'), ('TONDO', 'city'), ('METRO MANILA', 'province'), ('NATIONAL CAPITAL REGION', 'region'), ('nan', 'postal')]\n",
      "[('MANUGUIT', 'barangay'), ('TONDO', 'city'), ('METRO MANILA', 'province'), ('NATIONAL CAPITAL REGION', 'region'), ('nan', 'postal')]\n",
      "[('CONCEPTION 1', 'barangay'), ('MARIKINA CITY', 'city'), ('METRO MANILA', 'province'), ('NATIONAL CAPITAL REGION', 'region'), ('1807.0', 'postal')]\n",
      "[('SANTA ELENA', 'barangay'), ('MARIKINA CITY', 'city'), ('METRO MANILA', 'province'), ('NATIONAL CAPITAL REGION', 'region'), ('nan', 'postal')]\n",
      "[('nan', 'barangay'), ('MARIKINA CITY', 'city'), ('METRO MANILA', 'province'), ('NATIONAL CAPITAL REGION', 'region'), ('nan', 'postal')]\n",
      "[('SANTO NINO', 'barangay'), ('MARIKINA CITY', 'city'), ('METRO MANILA', 'province'), ('NATIONAL CAPITAL REGION', 'region'), ('1800.0', 'postal')]\n",
      "[('nan', 'barangay'), ('MARIKINA CITY', 'city'), ('METRO MANILA', 'province'), ('NATIONAL CAPITAL REGION', 'region'), ('nan', 'postal')]\n",
      "[('PARANG', 'barangay'), ('MARIKINA CITY', 'city'), ('METRO MANILA', 'province'), ('NATIONAL CAPITAL REGION', 'region'), ('1809.0', 'postal')]\n",
      "[('CONCEPTION', 'barangay'), ('MARIKINA CITY', 'city'), ('METRO MANILA', 'province'), ('NATIONAL CAPITAL REGION', 'region'), ('nan', 'postal')]\n",
      "[('SANTO NINO', 'barangay'), ('MARIKINA CITY', 'city'), ('METRO MANILA', 'province'), ('NATIONAL CAPITAL REGION', 'region'), ('1800.0', 'postal')]\n",
      "[('nan', 'barangay'), ('MARIKINA CITY', 'city'), ('METRO MANILA', 'province'), ('NATIONAL CAPITAL REGION', 'region'), ('nan', 'postal')]\n",
      "[('SANTA ELENA', 'barangay'), ('MARIKINA CITY', 'city'), ('METRO MANILA', 'province'), ('NATIONAL CAPITAL REGION', 'region'), ('1800.0', 'postal')]\n",
      "[('SSS VILLAGE', 'barangay'), ('MARIKINA CITY', 'city'), ('METRO MANILA', 'province'), ('NATIONAL CAPITAL REGION', 'region'), ('nan', 'postal')]\n",
      "[('nan', 'barangay'), ('MARIKINA CITY', 'city'), ('METRO MANILA', 'province'), ('NATIONAL CAPITAL REGION', 'region'), ('nan', 'postal')]\n",
      "[('MARIKINA HEIGHTS', 'barangay'), ('MARIKINA CITY', 'city'), ('METRO MANILA', 'province'), ('NATIONAL CAPITAL REGION', 'region'), ('1810.0', 'postal')]\n",
      "[('nan', 'barangay'), ('MARIKINA CITY', 'city'), ('METRO MANILA', 'province'), ('NATIONAL CAPITAL REGION', 'region'), ('1800.0', 'postal')]\n",
      "[('SANTA ELENA', 'barangay'), ('MARIKINA CITY', 'city'), ('METRO MANILA', 'province'), ('NATIONAL CAPITAL REGION', 'region'), ('nan', 'postal')]\n",
      "[('CONCEPTION 1', 'barangay'), ('MARIKINA CITY', 'city'), ('METRO MANILA', 'province'), ('NATIONAL CAPITAL REGION', 'region'), ('nan', 'postal')]\n",
      "[('nan', 'barangay'), ('MARIKINA CITY', 'city'), ('METRO MANILA', 'province'), ('NATIONAL CAPITAL REGION', 'region'), ('nan', 'postal')]\n",
      "[('SANTO NINO', 'barangay'), ('MARIKINA CITY', 'city'), ('METRO MANILA', 'province'), ('NATIONAL CAPITAL REGION', 'region'), ('1800.0', 'postal')]\n",
      "[('SAN ROQUE', 'barangay'), ('MARIKINA CITY', 'city'), ('METRO MANILA', 'province'), ('NATIONAL CAPITAL REGION', 'region'), ('nan', 'postal')]\n",
      "[('SANTA ELENA', 'barangay'), ('MARIKINA CITY', 'city'), ('METRO MANILA', 'province'), ('NATIONAL CAPITAL REGION', 'region'), ('1800.0', 'postal')]\n",
      "[('nan', 'barangay'), ('MARIKINA CITY', 'city'), ('METRO MANILA', 'province'), ('NATIONAL CAPITAL REGION', 'region'), ('1800.0', 'postal')]\n",
      "[('SANTO NINO', 'barangay'), ('MARIKINA CITY', 'city'), ('METRO MANILA', 'province'), ('NATIONAL CAPITAL REGION', 'region'), ('1800.0', 'postal')]\n",
      "[('SANTA ELENA', 'barangay'), ('MARIKINA CITY', 'city'), ('METRO MANILA', 'province'), ('NATIONAL CAPITAL REGION', 'region'), ('1800.0', 'postal')]\n",
      "[('SANTO NINO', 'barangay'), ('MARIKINA CITY', 'city'), ('METRO MANILA', 'province'), ('NATIONAL CAPITAL REGION', 'region'), ('1800.0', 'postal')]\n",
      "[('JOSE DELA PENA', 'barangay'), ('MARIKINA CITY', 'city'), ('METRO MANILA', 'province'), ('NATIONAL CAPITAL REGION', 'region'), ('nan', 'postal')]\n",
      "[('nan', 'barangay'), ('MARIKINA CITY', 'city'), ('METRO MANILA', 'province'), ('NATIONAL CAPITAL REGION', 'region'), ('nan', 'postal')]\n",
      "[('nan', 'barangay'), ('PASAY', 'city'), ('METRO MANILA', 'province'), ('NATIONAL CAPITAL REGION', 'region'), ('1300.0', 'postal')]\n",
      "[('SANUILDING, MALL OF ASIA COMPLE, JOSE DIOKNO BOULEVARD', 'barangay'), ('MARIKINA CITY', 'city'), ('METRO MANILA', 'province'), ('NATIONAL CAPITAL REGION', 'region'), ('1308.0', 'postal')]\n",
      "[('COMMONWEALTH', 'barangay'), ('QUEZON CITY', 'city'), ('METRO MANILA', 'province'), ('NATIONAL CAPITAL REGION', 'region'), ('1121.0', 'postal')]\n",
      "[('BARANGAY 281', 'barangay'), ('SAN NICOLAS', 'city'), ('METRO MANILA', 'province'), ('NATIONAL CAPITAL REGION', 'region'), ('1010.0', 'postal')]\n",
      "[('MALAMIG', 'barangay'), ('MANDALUYONG CITY', 'city'), ('METRO MANILA', 'province'), ('NATIONAL CAPITAL REGION', 'region'), ('1554.0', 'postal')]\n",
      "[('nan', 'barangay'), ('PARANAQUE CITY', 'city'), ('METRO MANILA', 'province'), ('NATIONAL CAPITAL REGION', 'region'), ('nan', 'postal')]\n",
      "[('CONCEPTION 1', 'barangay'), ('MARIKINA CITY', 'city'), ('METRO MANILA', 'province'), ('NATIONAL CAPITAL REGION', 'region'), ('1807.0', 'postal')]\n",
      "[('nan', 'barangay'), ('TONDO', 'city'), ('METRO MANILA', 'province'), ('NATIONAL CAPITAL REGION', 'region'), ('1000.0', 'postal')]\n",
      "[('nan', 'barangay'), ('ERMITA', 'city'), ('METRO MANILA', 'province'), ('NATIONAL CAPITAL REGION', 'region'), ('nan', 'postal')]\n",
      "[('BAESA', 'barangay'), ('CALOOCAN CITY', 'city'), ('METRO MANILA', 'province'), ('NATIONAL CAPITAL REGION', 'region'), ('1100.0', 'postal')]\n",
      "[('nan', 'barangay'), ('BINONDO', 'city'), ('METRO MANILA', 'province'), ('NATIONAL CAPITAL REGION', 'region'), ('nan', 'postal')]\n",
      "[('nan', 'barangay'), ('BINONDO', 'city'), ('METRO MANILA', 'province'), ('NATIONAL CAPITAL REGION', 'region'), ('1006.0', 'postal')]\n",
      "[('BARRIO POTRERO', 'barangay'), ('MALABON CITY', 'city'), ('METRO MANILA', 'province'), ('NATIONAL CAPITAL REGION', 'region'), ('1470.0', 'postal')]\n",
      "[('nan', 'barangay'), ('PORT AREA', 'city'), ('METRO MANILA', 'province'), ('NATIONAL CAPITAL REGION', 'region'), ('1018.0', 'postal')]\n",
      "[('nan', 'barangay'), ('nan', 'city'), ('METRO MANILA', 'province'), ('NATIONAL CAPITAL REGION', 'region'), ('1000.0', 'postal')]\n",
      "[('nan', 'barangay'), ('VALENZUELA CITY', 'city'), ('METRO MANILA', 'province'), ('NATIONAL CAPITAL REGION', 'region'), ('1440.0', 'postal')]\n",
      "[('TALON DOS', 'barangay'), ('LAS PINAS CITY', 'city'), ('METRO MANILA', 'province'), ('NATIONAL CAPITAL REGION', 'region'), ('1747.0', 'postal')]\n",
      "[('LAWANG BATO', 'barangay'), ('VALENZUELA CITY', 'city'), ('METRO MANILA', 'province'), ('NATIONAL CAPITAL REGION', 'region'), ('nan', 'postal')]\n",
      "[('LOYOLA HEIGHTS', 'barangay'), ('QUEZON CITY', 'city'), ('METRO MANILA', 'province'), ('NATIONAL CAPITAL REGION', 'region'), ('1108.0', 'postal')]\n",
      "[('AYALA ALABANG', 'barangay'), ('MUNTINLUPA CITY', 'city'), ('METRO MANILA', 'province'), ('NATIONAL CAPITAL REGION', 'region'), ('1770.0', 'postal')]\n",
      "[('nan', 'barangay'), ('MANDALUYONG CITY', 'city'), ('METRO MANILA', 'province'), ('NATIONAL CAPITAL REGION', 'region'), ('1550.0', 'postal')]\n",
      "[('DILIMAN', 'barangay'), ('QUEZON CITY', 'city'), ('METRO MANILA', 'province'), ('NATIONAL CAPITAL REGION', 'region'), ('1104.0', 'postal')]\n",
      "[('MALAMIG', 'barangay'), ('MANDALUYONG CITY', 'city'), ('METRO MANILA', 'province'), ('NATIONAL CAPITAL REGION', 'region'), ('1550.0', 'postal')]\n",
      "[('BARRIO UGONG', 'barangay'), ('PASIG CITY', 'city'), ('METRO MANILA', 'province'), ('NATIONAL CAPITAL REGION', 'region'), ('1604.0', 'postal')]\n",
      "[('SAN JOSE', 'barangay'), ('QUEZON CITY', 'city'), ('METRO MANILA', 'province'), ('NATIONAL CAPITAL REGION', 'region'), ('1106.0', 'postal')]\n",
      "[('ST. PETER', 'barangay'), ('QUEZON CITY', 'city'), ('METRO MANILA', 'province'), ('NATIONAL CAPITAL REGION', 'region'), ('nan', 'postal')]\n",
      "[('nan', 'barangay'), ('PASIG CITY', 'city'), ('METRO MANILA', 'province'), ('NATIONAL CAPITAL REGION', 'region'), ('nan', 'postal')]\n",
      "[('AYALA AVENUE', 'barangay'), ('MAKATI CITY', 'city'), ('METRO MANILA', 'province'), ('NATIONAL CAPITAL REGION', 'region'), ('1200.0', 'postal')]\n",
      "[('nan', 'barangay'), ('QUEZON CITY', 'city'), ('METRO MANILA', 'province'), ('NATIONAL CAPITAL REGION', 'region'), ('nan', 'postal')]\n",
      "[('BARANGAY 281', 'barangay'), ('SAN NICOLAS', 'city'), ('METRO MANILA', 'province'), ('NATIONAL CAPITAL REGION', 'region'), ('1010.0', 'postal')]\n",
      "[('MALAMIG', 'barangay'), ('MANDALUYONG CITY', 'city'), ('METRO MANILA', 'province'), ('NATIONAL CAPITAL REGION', 'region'), ('1554.0', 'postal')]\n",
      "[('COMMONWEALTH', 'barangay'), ('QUEZON CITY', 'city'), ('METRO MANILA', 'province'), ('NATIONAL CAPITAL REGION', 'region'), ('1121.0', 'postal')]\n",
      "[('POBLACION', 'barangay'), ('MAKATI CITY', 'city'), ('METRO MANILA', 'province'), ('NATIONAL CAPITAL REGION', 'region'), ('1210.0', 'postal')]\n",
      "[('MALAMIG', 'barangay'), ('MANDALUYONG CITY', 'city'), ('METRO MANILA', 'province'), ('NATIONAL CAPITAL REGION', 'region'), ('1550.0', 'postal')]\n",
      "[('EDSA', 'barangay'), ('QUEZON CITY', 'city'), ('METRO MANILA', 'province'), ('NATIONAL CAPITAL REGION', 'region'), ('nan', 'postal')]\n",
      "[('SANTA ANA', 'barangay'), ('MANDALUYONG CITY', 'city'), ('METRO MANILA', 'province'), ('NATIONAL CAPITAL REGION', 'region'), ('1550.0', 'postal')]\n",
      "[('CONCEPTION 1', 'barangay'), ('MARIKINA CITY', 'city'), ('METRO MANILA', 'province'), ('NATIONAL CAPITAL REGION', 'region'), ('1807.0', 'postal')]\n",
      "[('LEGASPI VILLAGE', 'barangay'), ('MAKATI CITY', 'city'), ('METRO MANILA', 'province'), ('NATIONAL CAPITAL REGION', 'region'), ('1229.0', 'postal')]\n",
      "[('PALIGSAHAN', 'barangay'), ('QUEZON CITY', 'city'), ('METRO MANILA', 'province'), ('NATIONAL CAPITAL REGION', 'region'), ('1103.0', 'postal')]\n",
      "[('nan', 'barangay'), ('PASAY CITY', 'city'), ('METRO MANILA', 'province'), ('NATIONAL CAPITAL REGION', 'region'), ('1300.0', 'postal')]\n",
      "[('PLAINVIEW', 'barangay'), ('MANDALUYONG CITY', 'city'), ('METRO MANILA', 'province'), ('NATIONAL CAPITAL REGION', 'region'), ('1550.0', 'postal')]\n",
      "[('nan', 'barangay'), ('SAN JUAN CITY', 'city'), ('METRO MANILA', 'province'), ('NATIONAL CAPITAL REGION', 'region'), ('1500.0', 'postal')]\n",
      "[('nan', 'barangay'), ('QIAPO', 'city'), ('METRO MANILA', 'province'), ('NATIONAL CAPITAL REGION', 'region'), ('1001.0', 'postal')]\n",
      "[('nan', 'barangay'), ('QUEZON CITY', 'city'), ('METRO MANILA', 'province'), ('NATIONAL CAPITAL REGION', 'region'), ('1109.0', 'postal')]\n",
      "[('nan', 'barangay'), ('PARANAQUE CITY', 'city'), ('METRO MANILA', 'province'), ('NATIONAL CAPITAL REGION', 'region'), ('1700.0', 'postal')]\n",
      "[('nan', 'barangay'), ('PASAY CITY', 'city'), ('METRO MANILA', 'province'), ('NATIONAL CAPITAL REGION', 'region'), ('1300.0', 'postal')]\n",
      "[('nan', 'barangay'), ('MAKATI CITY', 'city'), ('METRO MANILA', 'province'), ('NATIONAL CAPITAL REGION', 'region'), ('1200.0', 'postal')]\n",
      "[('MANRESA', 'barangay'), ('QUEZON CITY', 'city'), ('METRO MANILA', 'province'), ('NATIONAL CAPITAL REGION', 'region'), ('nan', 'postal')]\n",
      "[('CUBAO', 'barangay'), ('QUEZON CITY', 'city'), ('METRO MANILA', 'province'), ('NATIONAL CAPITAL REGION', 'region'), ('1111.0', 'postal')]\n",
      "[('DON BOSCO', 'barangay'), ('PARANAQUE CITY', 'city'), ('METRO MANILA', 'province'), ('NATIONAL CAPITAL REGION', 'region'), ('1700.0', 'postal')]\n",
      "[('SHAW BOULEVARD', 'barangay'), ('MANDALUYONG CITY', 'city'), ('METRO MANILA', 'province'), ('NATIONAL CAPITAL REGION', 'region'), ('1552.0', 'postal')]\n",
      "[('OLD BALARA', 'barangay'), ('QUEZON CITY', 'city'), ('METRO MANILA', 'province'), ('NATIONAL CAPITAL REGION', 'region'), ('1121.0', 'postal')]\n",
      "[('BEL-AIR', 'barangay'), ('MAKATI CITY', 'city'), ('METRO MANILA', 'province'), ('NATIONAL CAPITAL REGION', 'region'), ('1200.0', 'postal')]\n",
      "[('SAN. FRANCISCO DEL MONTE', 'barangay'), ('QUEZON CITY', 'city'), ('METRO MANILA', 'province'), ('NATIONAL CAPITAL REGION', 'region'), ('1100.0', 'postal')]\n",
      "[('nan', 'barangay'), ('TAGUIG CITY', 'city'), ('METRO MANILA', 'province'), ('NATIONAL CAPITAL REGION', 'region'), ('nan', 'postal')]\n"
     ]
    }
   ],
   "source": [
    "processed = []\n",
    "\n",
    "for (i, row) in data.iterrows():\n",
    "    item = []\n",
    "    \n",
    "    for (j, column) in row.iteritems():\n",
    "        item.append((str(column), j))\n",
    "                    \n",
    "    processed.append(item)\n",
    "    print(item)"
   ]
  },
  {
   "cell_type": "markdown",
   "metadata": {},
   "source": [
    "## CRF Training ##"
   ]
  },
  {
   "cell_type": "markdown",
   "metadata": {},
   "source": [
    "Training format : [ [ ('WORD','TAG'), ('WORD','TAG'), ... ] ]"
   ]
  },
  {
   "cell_type": "code",
   "execution_count": 8,
   "metadata": {},
   "outputs": [],
   "source": [
    "from nltk.tag import CRFTagger\n",
    "import pycrfsuite"
   ]
  },
  {
   "cell_type": "markdown",
   "metadata": {},
   "source": [
    "Actual Training"
   ]
  },
  {
   "cell_type": "code",
   "execution_count": 9,
   "metadata": {},
   "outputs": [],
   "source": [
    "ct = CRFTagger()"
   ]
  },
  {
   "cell_type": "code",
   "execution_count": 10,
   "metadata": {},
   "outputs": [],
   "source": [
    "train_data = processed"
   ]
  },
  {
   "cell_type": "code",
   "execution_count": 11,
   "metadata": {},
   "outputs": [],
   "source": [
    "ct.train(processed,'ncr_test.model')"
   ]
  },
  {
   "cell_type": "markdown",
   "metadata": {},
   "source": [
    "Input here"
   ]
  },
  {
   "cell_type": "code",
   "execution_count": 12,
   "metadata": {},
   "outputs": [],
   "source": [
    "input_addr = \"BARANGAY 204, TONDO, METRO MANILA, NATIONAL CAPITAL REGION, 1012\""
   ]
  },
  {
   "cell_type": "code",
   "execution_count": 13,
   "metadata": {},
   "outputs": [],
   "source": [
    "norm_input = input_addr.split(',')"
   ]
  },
  {
   "cell_type": "markdown",
   "metadata": {},
   "source": [
    "Reload Model file"
   ]
  },
  {
   "cell_type": "code",
   "execution_count": 14,
   "metadata": {},
   "outputs": [
    {
     "data": {
      "text/plain": [
       "[('BARANGAY 204', 'barangay'),\n",
       " (' TONDO', 'city'),\n",
       " (' METRO MANILA', 'province'),\n",
       " (' NATIONAL CAPITAL REGION', 'region'),\n",
       " (' 1012', 'region')]"
      ]
     },
     "execution_count": 14,
     "metadata": {},
     "output_type": "execute_result"
    }
   ],
   "source": [
    "ct_reloaded = CRFTagger()\n",
    "ct_reloaded.set_model_file('data_test.model')\n",
    "ct_reloaded.tag(norm_input)"
   ]
  },
  {
   "cell_type": "code",
   "execution_count": null,
   "metadata": {},
   "outputs": [],
   "source": []
  }
 ],
 "metadata": {
  "kernelspec": {
   "display_name": "Python 3",
   "language": "python",
   "name": "python3"
  },
  "language_info": {
   "codemirror_mode": {
    "name": "ipython",
    "version": 3
   },
   "file_extension": ".py",
   "mimetype": "text/x-python",
   "name": "python",
   "nbconvert_exporter": "python",
   "pygments_lexer": "ipython3",
   "version": "3.6.4"
  }
 },
 "nbformat": 4,
 "nbformat_minor": 2
}
